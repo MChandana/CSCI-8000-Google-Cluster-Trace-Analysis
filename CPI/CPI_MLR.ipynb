{
 "cells": [
  {
   "cell_type": "code",
   "execution_count": 1,
   "metadata": {},
   "outputs": [],
   "source": [
    "#Importing the libraries\n",
    "import numpy as np\n",
    "import matplotlib.pyplot as plt\n",
    "import pandas as pd\n",
    "import math as math\n",
    "import glob"
   ]
  },
  {
   "cell_type": "code",
   "execution_count": 2,
   "metadata": {},
   "outputs": [
    {
     "name": "stdout",
     "output_type": "stream",
     "text": [
      "(12210234, 12)\n"
     ]
    }
   ],
   "source": [
    "df=pd.concat([pd.read_csv(f, compression=\"gzip\", header=None, usecols=[5,6,8,9,12,13,14,15,16,18,19,2]) for f in glob.glob(r\"C:\\Users\\so51713\\Documents\\GoogleCloudDS\\task_usage1\\part-00*.csv.gz\")])\n",
    "df.columns=[ 'MeanCPUUsage', 'CanMemUsage','UnmapPCMemUsage','TotalPCMemUsage','MeanLocalDiskUsed','MaxCPUUsage','MaxDIOTime','CPI','MAI','AggType','SamplCPUUsage','JobId']\n",
    "print(df.shape)"
   ]
  },
  {
   "cell_type": "code",
   "execution_count": 3,
   "metadata": {},
   "outputs": [
    {
     "name": "stdout",
     "output_type": "stream",
     "text": [
      "(10262355, 12)\n"
     ]
    }
   ],
   "source": [
    "nonEmptyDF=df.dropna()\n",
    "print(nonEmptyDF.shape)"
   ]
  },
  {
   "cell_type": "code",
   "execution_count": 4,
   "metadata": {},
   "outputs": [
    {
     "data": {
      "text/html": [
       "<div>\n",
       "<style scoped>\n",
       "    .dataframe tbody tr th:only-of-type {\n",
       "        vertical-align: middle;\n",
       "    }\n",
       "\n",
       "    .dataframe tbody tr th {\n",
       "        vertical-align: top;\n",
       "    }\n",
       "\n",
       "    .dataframe thead th {\n",
       "        text-align: right;\n",
       "    }\n",
       "</style>\n",
       "<table border=\"1\" class=\"dataframe\">\n",
       "  <thead>\n",
       "    <tr style=\"text-align: right;\">\n",
       "      <th></th>\n",
       "      <th>MeanCPUUsage</th>\n",
       "      <th>CanMemUsage</th>\n",
       "      <th>UnmapPCMemUsage</th>\n",
       "      <th>TotalPCMemUsage</th>\n",
       "      <th>MeanLocalDiskUsed</th>\n",
       "      <th>MaxCPUUsage</th>\n",
       "      <th>MaxDIOTime</th>\n",
       "      <th>CPI</th>\n",
       "      <th>MAI</th>\n",
       "      <th>AggType</th>\n",
       "      <th>SamplCPUUsage</th>\n",
       "      <th>JobId</th>\n",
       "    </tr>\n",
       "  </thead>\n",
       "  <tbody>\n",
       "    <tr>\n",
       "      <th>count</th>\n",
       "      <td>1.026236e+07</td>\n",
       "      <td>1.026236e+07</td>\n",
       "      <td>1.026236e+07</td>\n",
       "      <td>1.026236e+07</td>\n",
       "      <td>1.026236e+07</td>\n",
       "      <td>1.026236e+07</td>\n",
       "      <td>1.026236e+07</td>\n",
       "      <td>1.026236e+07</td>\n",
       "      <td>1.026236e+07</td>\n",
       "      <td>1.026236e+07</td>\n",
       "      <td>1.026236e+07</td>\n",
       "      <td>1.026236e+07</td>\n",
       "    </tr>\n",
       "    <tr>\n",
       "      <th>mean</th>\n",
       "      <td>5.622761e+09</td>\n",
       "      <td>1.653807e-02</td>\n",
       "      <td>2.006269e-02</td>\n",
       "      <td>2.401548e-03</td>\n",
       "      <td>6.396766e-03</td>\n",
       "      <td>9.288692e-05</td>\n",
       "      <td>6.467424e-02</td>\n",
       "      <td>1.817410e-02</td>\n",
       "      <td>4.640186e+00</td>\n",
       "      <td>1.628924e-02</td>\n",
       "      <td>2.135487e-01</td>\n",
       "      <td>9.330574e-03</td>\n",
       "    </tr>\n",
       "    <tr>\n",
       "      <th>std</th>\n",
       "      <td>1.074102e+09</td>\n",
       "      <td>3.516807e-02</td>\n",
       "      <td>3.511301e-02</td>\n",
       "      <td>5.670513e-03</td>\n",
       "      <td>2.496122e-02</td>\n",
       "      <td>2.273780e-04</td>\n",
       "      <td>1.965401e-01</td>\n",
       "      <td>6.689432e-02</td>\n",
       "      <td>5.327997e+00</td>\n",
       "      <td>2.596727e-02</td>\n",
       "      <td>4.098118e-01</td>\n",
       "      <td>2.786820e-02</td>\n",
       "    </tr>\n",
       "    <tr>\n",
       "      <th>min</th>\n",
       "      <td>3.418309e+06</td>\n",
       "      <td>0.000000e+00</td>\n",
       "      <td>0.000000e+00</td>\n",
       "      <td>0.000000e+00</td>\n",
       "      <td>0.000000e+00</td>\n",
       "      <td>0.000000e+00</td>\n",
       "      <td>0.000000e+00</td>\n",
       "      <td>0.000000e+00</td>\n",
       "      <td>6.952000e-02</td>\n",
       "      <td>0.000000e+00</td>\n",
       "      <td>0.000000e+00</td>\n",
       "      <td>0.000000e+00</td>\n",
       "    </tr>\n",
       "    <tr>\n",
       "      <th>25%</th>\n",
       "      <td>5.402489e+09</td>\n",
       "      <td>2.012000e-04</td>\n",
       "      <td>9.527000e-04</td>\n",
       "      <td>1.822000e-04</td>\n",
       "      <td>3.710000e-04</td>\n",
       "      <td>1.907000e-06</td>\n",
       "      <td>8.354000e-04</td>\n",
       "      <td>1.431000e-04</td>\n",
       "      <td>1.950000e+00</td>\n",
       "      <td>3.913000e-03</td>\n",
       "      <td>0.000000e+00</td>\n",
       "      <td>5.722000e-06</td>\n",
       "    </tr>\n",
       "    <tr>\n",
       "      <th>50%</th>\n",
       "      <td>6.221862e+09</td>\n",
       "      <td>1.535000e-03</td>\n",
       "      <td>6.111000e-03</td>\n",
       "      <td>5.379000e-04</td>\n",
       "      <td>8.898000e-04</td>\n",
       "      <td>2.575000e-05</td>\n",
       "      <td>1.950000e-02</td>\n",
       "      <td>1.358000e-03</td>\n",
       "      <td>3.163000e+00</td>\n",
       "      <td>8.274000e-03</td>\n",
       "      <td>0.000000e+00</td>\n",
       "      <td>1.469000e-04</td>\n",
       "    </tr>\n",
       "    <tr>\n",
       "      <th>75%</th>\n",
       "      <td>6.238340e+09</td>\n",
       "      <td>1.770000e-02</td>\n",
       "      <td>2.252000e-02</td>\n",
       "      <td>1.497000e-03</td>\n",
       "      <td>2.155000e-03</td>\n",
       "      <td>1.278000e-04</td>\n",
       "      <td>9.509000e-02</td>\n",
       "      <td>8.286000e-03</td>\n",
       "      <td>4.278000e+00</td>\n",
       "      <td>1.300000e-02</td>\n",
       "      <td>0.000000e+00</td>\n",
       "      <td>2.083000e-03</td>\n",
       "    </tr>\n",
       "    <tr>\n",
       "      <th>max</th>\n",
       "      <td>6.253231e+09</td>\n",
       "      <td>6.633000e+00</td>\n",
       "      <td>5.820000e-01</td>\n",
       "      <td>2.021000e-01</td>\n",
       "      <td>2.285000e-01</td>\n",
       "      <td>7.256000e-03</td>\n",
       "      <td>5.370000e+02</td>\n",
       "      <td>1.098000e+01</td>\n",
       "      <td>1.599000e+03</td>\n",
       "      <td>2.000000e+00</td>\n",
       "      <td>1.000000e+00</td>\n",
       "      <td>4.971000e-01</td>\n",
       "    </tr>\n",
       "  </tbody>\n",
       "</table>\n",
       "</div>"
      ],
      "text/plain": [
       "       MeanCPUUsage   CanMemUsage  UnmapPCMemUsage  TotalPCMemUsage  \\\n",
       "count  1.026236e+07  1.026236e+07     1.026236e+07     1.026236e+07   \n",
       "mean   5.622761e+09  1.653807e-02     2.006269e-02     2.401548e-03   \n",
       "std    1.074102e+09  3.516807e-02     3.511301e-02     5.670513e-03   \n",
       "min    3.418309e+06  0.000000e+00     0.000000e+00     0.000000e+00   \n",
       "25%    5.402489e+09  2.012000e-04     9.527000e-04     1.822000e-04   \n",
       "50%    6.221862e+09  1.535000e-03     6.111000e-03     5.379000e-04   \n",
       "75%    6.238340e+09  1.770000e-02     2.252000e-02     1.497000e-03   \n",
       "max    6.253231e+09  6.633000e+00     5.820000e-01     2.021000e-01   \n",
       "\n",
       "       MeanLocalDiskUsed   MaxCPUUsage    MaxDIOTime           CPI  \\\n",
       "count       1.026236e+07  1.026236e+07  1.026236e+07  1.026236e+07   \n",
       "mean        6.396766e-03  9.288692e-05  6.467424e-02  1.817410e-02   \n",
       "std         2.496122e-02  2.273780e-04  1.965401e-01  6.689432e-02   \n",
       "min         0.000000e+00  0.000000e+00  0.000000e+00  0.000000e+00   \n",
       "25%         3.710000e-04  1.907000e-06  8.354000e-04  1.431000e-04   \n",
       "50%         8.898000e-04  2.575000e-05  1.950000e-02  1.358000e-03   \n",
       "75%         2.155000e-03  1.278000e-04  9.509000e-02  8.286000e-03   \n",
       "max         2.285000e-01  7.256000e-03  5.370000e+02  1.098000e+01   \n",
       "\n",
       "                MAI       AggType  SamplCPUUsage         JobId  \n",
       "count  1.026236e+07  1.026236e+07   1.026236e+07  1.026236e+07  \n",
       "mean   4.640186e+00  1.628924e-02   2.135487e-01  9.330574e-03  \n",
       "std    5.327997e+00  2.596727e-02   4.098118e-01  2.786820e-02  \n",
       "min    6.952000e-02  0.000000e+00   0.000000e+00  0.000000e+00  \n",
       "25%    1.950000e+00  3.913000e-03   0.000000e+00  5.722000e-06  \n",
       "50%    3.163000e+00  8.274000e-03   0.000000e+00  1.469000e-04  \n",
       "75%    4.278000e+00  1.300000e-02   0.000000e+00  2.083000e-03  \n",
       "max    1.599000e+03  2.000000e+00   1.000000e+00  4.971000e-01  "
      ]
     },
     "execution_count": 4,
     "metadata": {},
     "output_type": "execute_result"
    }
   ],
   "source": [
    "nonEmptyDF.describe()"
   ]
  },
  {
   "cell_type": "code",
   "execution_count": 5,
   "metadata": {},
   "outputs": [
    {
     "name": "stdout",
     "output_type": "stream",
     "text": [
      "No of unique jobs :  5621\n"
     ]
    }
   ],
   "source": [
    "print(\"No of unique jobs : \",nonEmptyDF.JobId.nunique())"
   ]
  },
  {
   "cell_type": "code",
   "execution_count": 6,
   "metadata": {
    "scrolled": true
   },
   "outputs": [
    {
     "name": "stdout",
     "output_type": "stream",
     "text": [
      "[[1.562e-03 6.787e-02 1.156e-03 ... 7.243e-03 1.000e+00 0.000e+00]\n",
      " [1.568e-03 6.787e-02 3.195e-04 ... 5.791e-03 1.000e+00 0.000e+00]\n",
      " [3.071e-04 8.044e-02 2.823e-04 ... 2.080e-02 1.000e+00 0.000e+00]\n",
      " ...\n",
      " [1.364e-04 2.670e-05 0.000e+00 ... 1.064e-03 0.000e+00 0.000e+00]\n",
      " [1.460e-02 3.475e-03 1.783e-04 ... 3.184e-03 0.000e+00 2.481e-02]\n",
      " [1.488e-02 3.075e-03 2.337e-04 ... 1.176e-03 0.000e+00 3.525e-03]]\n",
      "[2.445  2.1    5.588  ... 1.067  1.542  0.9734]\n"
     ]
    }
   ],
   "source": [
    "#Define X,Y\n",
    "X=nonEmptyDF.drop(nonEmptyDF.columns[[7]], axis=1).values\n",
    "Y=nonEmptyDF.iloc[:,7].values\n",
    "print(X)\n",
    "print(Y)"
   ]
  },
  {
   "cell_type": "code",
   "execution_count": 7,
   "metadata": {},
   "outputs": [
    {
     "name": "stdout",
     "output_type": "stream",
     "text": [
      "[ 7.65699158  4.09412136 25.33690994 ...  7.77196781  1.83781083\n",
      "  1.50846176]\n",
      "[ 9.775  4.012 24.75  ...  7.473  1.751  1.478]\n"
     ]
    }
   ],
   "source": [
    "# Create training and test set\n",
    "from sklearn.model_selection import train_test_split\n",
    "X_train,X_test,Y_train,Y_test=train_test_split(X,Y,test_size=0.2,random_state=0)\n",
    "\n",
    "# Feature scaling\n",
    "from sklearn.preprocessing import MinMaxScaler\n",
    "minMaxScaler_X1 = MinMaxScaler()\n",
    "X_train = minMaxScaler_X1.fit_transform(X_train)\n",
    "X_test= minMaxScaler_X1.transform(X_test)\n",
    "\n",
    "# Perform MLR\n",
    "from sklearn.linear_model import LinearRegression\n",
    "regressor=LinearRegression()\n",
    "regressor.fit(X_train,Y_train)\n",
    "Y_pred=regressor.predict(X_test)\n",
    "print(Y_pred)\n",
    "print(Y_test)"
   ]
  },
  {
   "cell_type": "code",
   "execution_count": 9,
   "metadata": {},
   "outputs": [
    {
     "name": "stdout",
     "output_type": "stream",
     "text": [
      "Mean Absolute Error: 0.41\n"
     ]
    }
   ],
   "source": [
    "errors = abs(Y_pred - Y_test)\n",
    "print('Mean Absolute Error:', round(np.mean(errors), 2))"
   ]
  },
  {
   "cell_type": "code",
   "execution_count": 13,
   "metadata": {},
   "outputs": [
    {
     "name": "stdout",
     "output_type": "stream",
     "text": [
      "Accuracy: 86.03 %.\n",
      "13.969446226768627\n"
     ]
    }
   ],
   "source": [
    "mape = 100 * (errors / Y_test)\n",
    "accuracy = 100 - np.mean(mape)\n",
    "print('Accuracy:', round(accuracy, 2), '%.')\n",
    "print(np.mean(mape))"
   ]
  },
  {
   "cell_type": "code",
   "execution_count": 6,
   "metadata": {},
   "outputs": [
    {
     "data": {
      "text/html": [
       "<table class=\"simpletable\">\n",
       "<caption>OLS Regression Results</caption>\n",
       "<tr>\n",
       "  <th>Dep. Variable:</th>            <td>y</td>        <th>  R-squared:         </th>  <td>   0.972</td>  \n",
       "</tr>\n",
       "<tr>\n",
       "  <th>Model:</th>                   <td>OLS</td>       <th>  Adj. R-squared:    </th>  <td>   0.972</td>  \n",
       "</tr>\n",
       "<tr>\n",
       "  <th>Method:</th>             <td>Least Squares</td>  <th>  F-statistic:       </th>  <td>3.519e+07</td> \n",
       "</tr>\n",
       "<tr>\n",
       "  <th>Date:</th>             <td>Mon, 26 Nov 2018</td> <th>  Prob (F-statistic):</th>   <td>  0.00</td>   \n",
       "</tr>\n",
       "<tr>\n",
       "  <th>Time:</th>                 <td>01:14:57</td>     <th>  Log-Likelihood:    </th> <td>-1.3445e+07</td>\n",
       "</tr>\n",
       "<tr>\n",
       "  <th>No. Observations:</th>     <td>10262355</td>     <th>  AIC:               </th>  <td>2.689e+07</td> \n",
       "</tr>\n",
       "<tr>\n",
       "  <th>Df Residuals:</th>         <td>10262344</td>     <th>  BIC:               </th>  <td>2.689e+07</td> \n",
       "</tr>\n",
       "<tr>\n",
       "  <th>Df Model:</th>              <td>    10</td>      <th>                     </th>      <td> </td>     \n",
       "</tr>\n",
       "<tr>\n",
       "  <th>Covariance Type:</th>      <td>nonrobust</td>    <th>                     </th>      <td> </td>     \n",
       "</tr>\n",
       "</table>\n",
       "<table class=\"simpletable\">\n",
       "<tr>\n",
       "    <td></td>       <th>coef</th>     <th>std err</th>      <th>t</th>      <th>P>|t|</th>  <th>[0.025</th>    <th>0.975]</th>  \n",
       "</tr>\n",
       "<tr>\n",
       "  <th>const</th> <td>    1.3823</td> <td>    0.000</td> <td> 3211.131</td> <td> 0.000</td> <td>    1.381</td> <td>    1.383</td>\n",
       "</tr>\n",
       "<tr>\n",
       "  <th>x1</th>    <td>  -20.9087</td> <td>    0.079</td> <td> -264.847</td> <td> 0.000</td> <td>  -21.063</td> <td>  -20.754</td>\n",
       "</tr>\n",
       "<tr>\n",
       "  <th>x2</th>    <td>    1.4716</td> <td>    0.008</td> <td>  191.199</td> <td> 0.000</td> <td>    1.457</td> <td>    1.487</td>\n",
       "</tr>\n",
       "<tr>\n",
       "  <th>x3</th>    <td>    2.6717</td> <td>    0.018</td> <td>  146.187</td> <td> 0.000</td> <td>    2.636</td> <td>    2.708</td>\n",
       "</tr>\n",
       "<tr>\n",
       "  <th>x4</th>    <td>   -1.1695</td> <td>    0.005</td> <td> -228.671</td> <td> 0.000</td> <td>   -1.180</td> <td>   -1.159</td>\n",
       "</tr>\n",
       "<tr>\n",
       "  <th>x5</th>    <td>    1.2132</td> <td>    0.010</td> <td>  123.911</td> <td> 0.000</td> <td>    1.194</td> <td>    1.232</td>\n",
       "</tr>\n",
       "<tr>\n",
       "  <th>x6</th>    <td>  -20.5814</td> <td>    0.864</td> <td>  -23.817</td> <td> 0.000</td> <td>  -22.275</td> <td>  -18.888</td>\n",
       "</tr>\n",
       "<tr>\n",
       "  <th>x7</th>    <td>    5.3847</td> <td>    0.051</td> <td>  104.717</td> <td> 0.000</td> <td>    5.284</td> <td>    5.486</td>\n",
       "</tr>\n",
       "<tr>\n",
       "  <th>x8</th>    <td>  402.9102</td> <td>    0.022</td> <td>  1.8e+04</td> <td> 0.000</td> <td>  402.866</td> <td>  402.954</td>\n",
       "</tr>\n",
       "<tr>\n",
       "  <th>x9</th>    <td>   -0.1441</td> <td>    0.001</td> <td> -169.576</td> <td> 0.000</td> <td>   -0.146</td> <td>   -0.142</td>\n",
       "</tr>\n",
       "<tr>\n",
       "  <th>x10</th>   <td>   -0.6653</td> <td>    0.006</td> <td> -107.113</td> <td> 0.000</td> <td>   -0.678</td> <td>   -0.653</td>\n",
       "</tr>\n",
       "</table>\n",
       "<table class=\"simpletable\">\n",
       "<tr>\n",
       "  <th>Omnibus:</th>       <td>63931027.460</td> <th>  Durbin-Watson:     </th>        <td>   1.617</td>       \n",
       "</tr>\n",
       "<tr>\n",
       "  <th>Prob(Omnibus):</th>    <td> 0.000</td>    <th>  Jarque-Bera (JB):  </th> <td>169428654628493792.000</td>\n",
       "</tr>\n",
       "<tr>\n",
       "  <th>Skew:</th>             <td>488.197</td>   <th>  Prob(JB):          </th>        <td>    0.00</td>       \n",
       "</tr>\n",
       "<tr>\n",
       "  <th>Kurtosis:</th>       <td>629472.965</td>  <th>  Cond. No.          </th>        <td>3.18e+03</td>       \n",
       "</tr>\n",
       "</table><br/><br/>Warnings:<br/>[1] Standard Errors assume that the covariance matrix of the errors is correctly specified.<br/>[2] The condition number is large, 3.18e+03. This might indicate that there are<br/>strong multicollinearity or other numerical problems."
      ],
      "text/plain": [
       "<class 'statsmodels.iolib.summary.Summary'>\n",
       "\"\"\"\n",
       "                            OLS Regression Results                            \n",
       "==============================================================================\n",
       "Dep. Variable:                      y   R-squared:                       0.972\n",
       "Model:                            OLS   Adj. R-squared:                  0.972\n",
       "Method:                 Least Squares   F-statistic:                 3.519e+07\n",
       "Date:                Mon, 26 Nov 2018   Prob (F-statistic):               0.00\n",
       "Time:                        01:14:57   Log-Likelihood:            -1.3445e+07\n",
       "No. Observations:            10262355   AIC:                         2.689e+07\n",
       "Df Residuals:                10262344   BIC:                         2.689e+07\n",
       "Df Model:                          10                                         \n",
       "Covariance Type:            nonrobust                                         \n",
       "==============================================================================\n",
       "                 coef    std err          t      P>|t|      [0.025      0.975]\n",
       "------------------------------------------------------------------------------\n",
       "const          1.3823      0.000   3211.131      0.000       1.381       1.383\n",
       "x1           -20.9087      0.079   -264.847      0.000     -21.063     -20.754\n",
       "x2             1.4716      0.008    191.199      0.000       1.457       1.487\n",
       "x3             2.6717      0.018    146.187      0.000       2.636       2.708\n",
       "x4            -1.1695      0.005   -228.671      0.000      -1.180      -1.159\n",
       "x5             1.2132      0.010    123.911      0.000       1.194       1.232\n",
       "x6           -20.5814      0.864    -23.817      0.000     -22.275     -18.888\n",
       "x7             5.3847      0.051    104.717      0.000       5.284       5.486\n",
       "x8           402.9102      0.022    1.8e+04      0.000     402.866     402.954\n",
       "x9            -0.1441      0.001   -169.576      0.000      -0.146      -0.142\n",
       "x10           -0.6653      0.006   -107.113      0.000      -0.678      -0.653\n",
       "==================================================================================\n",
       "Omnibus:                 63931027.460   Durbin-Watson:                       1.617\n",
       "Prob(Omnibus):                  0.000   Jarque-Bera (JB):   169428654628493792.000\n",
       "Skew:                         488.197   Prob(JB):                             0.00\n",
       "Kurtosis:                  629472.965   Cond. No.                         3.18e+03\n",
       "==================================================================================\n",
       "\n",
       "Warnings:\n",
       "[1] Standard Errors assume that the covariance matrix of the errors is correctly specified.\n",
       "[2] The condition number is large, 3.18e+03. This might indicate that there are\n",
       "strong multicollinearity or other numerical problems.\n",
       "\"\"\""
      ]
     },
     "execution_count": 6,
     "metadata": {},
     "output_type": "execute_result"
    }
   ],
   "source": [
    "# To view performance\n",
    "minMaxScaler_X2 = MinMaxScaler()\n",
    "X_scaled = minMaxScaler_X2.fit_transform(X)\n",
    "import statsmodels.formula.api as sm\n",
    "X_new=np.append(arr= np.ones((len(nonEmptyDF),1)).astype(int),values=X_scaled,axis=1)\n",
    "X_opt=X_new[:, [0,1,2,3,4,5,6,7,8,9,10]]\n",
    "regressor_ols=sm.OLS(endog=Y,exog=X_opt).fit()\n",
    "regressor_ols.summary()"
   ]
  },
  {
   "cell_type": "code",
   "execution_count": null,
   "metadata": {},
   "outputs": [],
   "source": []
  }
 ],
 "metadata": {
  "kernelspec": {
   "display_name": "Python 3",
   "language": "python",
   "name": "python3"
  },
  "language_info": {
   "codemirror_mode": {
    "name": "ipython",
    "version": 3
   },
   "file_extension": ".py",
   "mimetype": "text/x-python",
   "name": "python",
   "nbconvert_exporter": "python",
   "pygments_lexer": "ipython3",
   "version": "3.7.0"
  }
 },
 "nbformat": 4,
 "nbformat_minor": 2
}
