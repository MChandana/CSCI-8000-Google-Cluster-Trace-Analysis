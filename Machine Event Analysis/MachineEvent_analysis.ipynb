{
 "cells": [
  {
   "cell_type": "code",
   "execution_count": 2,
   "metadata": {},
   "outputs": [],
   "source": [
    "#Importing the libraries\n",
    "import numpy as np\n",
    "import matplotlib.pyplot as plt\n",
    "import pandas as pd\n",
    "import plotly as py\n",
    "import math as math\n",
    "import plotly.plotly as ply\n",
    "import plotly.graph_objs as go\n"
   ]
  },
  {
   "cell_type": "code",
   "execution_count": 3,
   "metadata": {},
   "outputs": [
    {
     "data": {
      "text/plain": [
       "(37780, 6)"
      ]
     },
     "execution_count": 3,
     "metadata": {},
     "output_type": "execute_result"
    }
   ],
   "source": [
    "#Load csv\n",
    "df=pd.read_csv(\"C:\\susan\\cloud\\clusterdata-2011-2\\machine_events\\machine_events.csv\")\n",
    "df.shape"
   ]
  },
  {
   "cell_type": "code",
   "execution_count": 4,
   "metadata": {},
   "outputs": [
    {
     "name": "stdout",
     "output_type": "stream",
     "text": [
      "No of unique machines in the cluster :  12583\n"
     ]
    }
   ],
   "source": [
    "#See the unique machines in the cluster\n",
    "print(\"No of unique machines in the cluster : \",df.MachineId.nunique())"
   ]
  },
  {
   "cell_type": "code",
   "execution_count": 5,
   "metadata": {},
   "outputs": [
    {
     "name": "stdout",
     "output_type": "stream",
     "text": [
      "No of machines added initially :  12477\n"
     ]
    }
   ],
   "source": [
    "#Number of machines added initially\n",
    "print(\"No of machines added initially : \",df[(df.Timestamp == 0) ].MachineId.count())"
   ]
  },
  {
   "cell_type": "code",
   "execution_count": 6,
   "metadata": {},
   "outputs": [
    {
     "name": "stdout",
     "output_type": "stream",
     "text": [
      "EventType\n",
      "0    8966\n",
      "1    8957\n",
      "2    7380\n",
      "Name: MachineId, dtype: int64\n"
     ]
    }
   ],
   "source": [
    "#In the dataset, rows corresponding to timestamp=0 are considered as initial machine ADD events\n",
    "#Fetch rows with no initial machine \"ADD\" event\n",
    "machEvent_NoinitialAdd=df[(df.Timestamp != 0)]\n",
    "#Group the machines based on events\n",
    "machEvtGrp=machEvent_NoinitialAdd.groupby(['EventType']).MachineId.count()\n",
    "print(machEvtGrp)"
   ]
  },
  {
   "cell_type": "code",
   "execution_count": 7,
   "metadata": {},
   "outputs": [
    {
     "data": {
      "image/png": "[encoded data removed]",
      "text/plain": [
       "<Figure size 432x288 with 1 Axes>"
      ]
     },
     "metadata": {},
     "output_type": "display_data"
    }
   ],
   "source": [
    "#Plot machine event statistics\n",
    "events = ('ADD', 'REMOVE', 'UPDATE')\n",
    "y_pos = np.arange(len(events)) \n",
    "plt.bar(y_pos, machEvtGrp, align='center', alpha=0.5)\n",
    "plt.xticks(y_pos, events)\n",
    "plt.ylabel('No of machines')\n",
    "plt.title('Machine Event Statistics')\n",
    "plt.show()"
   ]
  },
  {
   "cell_type": "code",
   "execution_count": 8,
   "metadata": {},
   "outputs": [],
   "source": [
    "# x_axis=[\"ADD\", \"REMOVE\", \"UPDATE\"]\n",
    "# y_axis=list(range(0,9000,1000))\n",
    "# machEvent_NoinitialAdd.groupby(['EventType'])['MachineId'].size().plot(kind='bar',yticks=y_axis,figsize=(20,8))\n",
    "# plt.xlabel(\"Event Type\")\n",
    "# plt.ylabel(\"Count\")\n",
    "# plt.text(1,-1,'matplotlib',text=\"add\")"
   ]
  },
  {
   "cell_type": "code",
   "execution_count": 9,
   "metadata": {},
   "outputs": [
    {
     "data": {
      "text/plain": [
       "[0.25, 0.5, 1.0]"
      ]
     },
     "execution_count": 9,
     "metadata": {},
     "output_type": "execute_result"
    }
   ],
   "source": [
    "#No of unique normalized CPU values in sorted order\n",
    "capacityDf=df[(df.Timestamp == 0)]\n",
    "cpuValues=sorted(capacityDf.CPUCapacity.dropna().unique())\n",
    "cpuValues\n",
    "#capacityDf.CPUCapacity.nunique()"
   ]
  },
  {
   "cell_type": "code",
   "execution_count": 10,
   "metadata": {},
   "outputs": [
    {
     "data": {
      "text/plain": [
       "[0.03085,\n",
       " 0.061579999999999996,\n",
       " 0.1241,\n",
       " 0.2493,\n",
       " 0.2498,\n",
       " 0.4995,\n",
       " 0.5,\n",
       " 0.7490000000000001,\n",
       " 0.9678,\n",
       " 1.0]"
      ]
     },
     "execution_count": 10,
     "metadata": {},
     "output_type": "execute_result"
    }
   ],
   "source": [
    "#No of unique normalized memory values\n",
    "memValues=sorted(capacityDf.MemoryCapacity.dropna().unique())\n",
    "memValues\n",
    "#capacityDf.MemoryCapacity.nunique() "
   ]
  },
  {
   "cell_type": "code",
   "execution_count": 11,
   "metadata": {},
   "outputs": [],
   "source": [
    "#Assigning 5 groups to memory values\n",
    "memoryValues=[0.125,0.25,0.5,0.75,1.0]"
   ]
  },
  {
   "cell_type": "code",
   "execution_count": 12,
   "metadata": {},
   "outputs": [],
   "source": [
    "# Creates a list containing 3 lists, each of 5 items, all set to 0\n",
    "w, h = len(memoryValues), len(cpuValues)\n",
    "data = [[0 for x in range(w)] for y in range(h)] \n",
    "col=0\n",
    "for i in memoryValues:\n",
    "    row=0\n",
    "    for j in cpuValues:\n",
    "        #print(\"Memory :\",i,\"CPU :\",j,\" No :\", capacityDf[(capacityDf.CPUCapacity == i) & (capacityDf.MemoryCapacity > j-.125) &  (capacityDf.MemoryCapacity <= j)].MachineId.count())\n",
    "        data[row][col]=capacityDf[(capacityDf.CPUCapacity == j) & (capacityDf.MemoryCapacity > i-.125) &  (capacityDf.MemoryCapacity <= i)].MachineId.count()\n",
    "        row=row+1\n",
    "    col=col+1\n",
    "\n",
    "data[0].append(sum(list(data[0])))\n",
    "data[1].append(sum(list(data[1])))\n",
    "data[2].append(sum(list(data[2])))"
   ]
  },
  {
   "cell_type": "code",
   "execution_count": 11,
   "metadata": {},
   "outputs": [
    {
     "data": {
      "text/html": [
       "<iframe id=\"igraph\" scrolling=\"no\" style=\"border:none;\" seamless=\"seamless\" src=\"https://plot.ly/~suzjoseph/2.embed\" height=\"525px\" width=\"100%\"></iframe>"
      ],
      "text/plain": [
       "<plotly.tools.PlotlyDisplay object>"
      ]
     },
     "execution_count": 11,
     "metadata": {},
     "output_type": "execute_result"
    }
   ],
   "source": [
    "col_header= ['=%.2f' % x for x in cpuValues]\n",
    "col_header.insert(0,'Mem/CPU')\n",
    "col_header.append('Total')\n",
    "\n",
    "row_header=['~ %.3f' % x for x in memoryValues]\n",
    "row_header.append('Total')\n",
    "totCol=[data[0][0]+data[1][0]+data[2][0],\n",
    "        data[0][1]+data[1][1]+data[2][1],\n",
    "        data[0][2]+data[1][2]+data[2][2],\n",
    "        data[0][3]+data[1][3]+data[2][3],\n",
    "        data[0][4]+data[1][4]+data[2][4]]\n",
    "totCol.append(sum(list(totCol)))\n",
    "\n",
    "trace = go.Table(\n",
    "    header = dict(values=col_header),\n",
    "    cells  = dict(\n",
    "        values= [\n",
    "            [row_header],\n",
    "            [data[0]],\n",
    "            [data[1]],\n",
    "            [data[2]],\n",
    "            [totCol]\n",
    "        ]\n",
    "    ))\n",
    "cap_table = [trace] \n",
    "ply.iplot(cap_table, filename = 'a')"
   ]
  },
  {
   "cell_type": "code",
   "execution_count": 14,
   "metadata": {},
   "outputs": [
    {
     "name": "stdout",
     "output_type": "stream",
     "text": [
      "       Timestamp   MachineId  EventType  \\\n",
      "12477        1.0     5782512          1   \n",
      "12478        1.0  1438195245          2   \n",
      "12479        1.0  4820073668          1   \n",
      "12480        1.0     1272981          1   \n",
      "12481        1.0   294985247          1   \n",
      "12482        1.0  6226704737          2   \n",
      "12483        1.0     8631300          1   \n",
      "12484        1.0     1272981          0   \n",
      "12485        1.0     6567863          2   \n",
      "12486        1.0   331141765          0   \n",
      "12487        1.0   331141765          2   \n",
      "12488        1.0  1785749011          2   \n",
      "12489        1.0  3023676243          2   \n",
      "12490        1.0  1785749011          2   \n",
      "12491        1.0  1440305526          2   \n",
      "12492        1.0     6570572          2   \n",
      "12493        1.0   294985247          0   \n",
      "12494        1.0   450512000          0   \n",
      "12495        1.0   450512000          2   \n",
      "12496        1.0   317808289          1   \n",
      "12497        1.0     6609008          2   \n",
      "12498        1.0      705636          1   \n",
      "12499        1.0     7731984          2   \n",
      "12500        1.0   317808289          0   \n",
      "12501        1.0  1438244924          0   \n",
      "12502        1.0  1438244924          2   \n",
      "12503        1.0      705636          0   \n",
      "12504        1.0  3314598368          1   \n",
      "12505        1.0    39146853          1   \n",
      "12506        1.0      711934          1   \n",
      "...          ...         ...        ...   \n",
      "37750       29.0          54          1   \n",
      "37751       29.0  4469393757          0   \n",
      "37752       29.0     7781209          1   \n",
      "37753       29.0     7781209          0   \n",
      "37754       29.0     6639239          1   \n",
      "37755       29.0     1301977          0   \n",
      "37756       29.0     7781209          2   \n",
      "37757       29.0  3938706287          1   \n",
      "37758       29.0      487545          1   \n",
      "37759       29.0      487545          0   \n",
      "37760       29.0     6639239          0   \n",
      "37761       29.0   484766849          2   \n",
      "37762       29.0          54          0   \n",
      "37763       29.0     9821127          2   \n",
      "37764       29.0  4246114621          2   \n",
      "37765       29.0  3938706287          0   \n",
      "37766       29.0     7777936          2   \n",
      "37767       29.0  4478494145          1   \n",
      "37768       29.0  1119618555          2   \n",
      "37769       29.0  3337972792          0   \n",
      "37770       29.0    63618668          1   \n",
      "37771       29.0   799179809          2   \n",
      "37772       29.0  3023676243          2   \n",
      "37773       30.0  4478494145          0   \n",
      "37774       30.0  3878814353          1   \n",
      "37775       30.0     5781239          2   \n",
      "37776       30.0  3463632642          0   \n",
      "37777       30.0  2343531369          1   \n",
      "37778       30.0  4246147567          0   \n",
      "37779       30.0  4246147567          1   \n",
      "\n",
      "                                         PlatformId  CPUCapacity  \\\n",
      "12477  HofLGzk1Or/8Ildj2+Lqv0UGGvY82NLoni8+J/Yy0RU=         0.50   \n",
      "12478  HofLGzk1Or/8Ildj2+Lqv0UGGvY82NLoni8+J/Yy0RU=         0.50   \n",
      "12479  GtXakjpd0CD41brK7k/27s3Eby3RpJKy7taB9S8UQRA=         1.00   \n",
      "12480  HofLGzk1Or/8Ildj2+Lqv0UGGvY82NLoni8+J/Yy0RU=         0.50   \n",
      "12481  HofLGzk1Or/8Ildj2+Lqv0UGGvY82NLoni8+J/Yy0RU=         0.50   \n",
      "12482  HofLGzk1Or/8Ildj2+Lqv0UGGvY82NLoni8+J/Yy0RU=         0.50   \n",
      "12483  HofLGzk1Or/8Ildj2+Lqv0UGGvY82NLoni8+J/Yy0RU=         0.50   \n",
      "12484  HofLGzk1Or/8Ildj2+Lqv0UGGvY82NLoni8+J/Yy0RU=         0.50   \n",
      "12485  HofLGzk1Or/8Ildj2+Lqv0UGGvY82NLoni8+J/Yy0RU=         0.50   \n",
      "12486  HofLGzk1Or/8Ildj2+Lqv0UGGvY82NLoni8+J/Yy0RU=         0.50   \n",
      "12487  HofLGzk1Or/8Ildj2+Lqv0UGGvY82NLoni8+J/Yy0RU=         0.50   \n",
      "12488  HofLGzk1Or/8Ildj2+Lqv0UGGvY82NLoni8+J/Yy0RU=         0.50   \n",
      "12489  HofLGzk1Or/8Ildj2+Lqv0UGGvY82NLoni8+J/Yy0RU=         0.50   \n",
      "12490  HofLGzk1Or/8Ildj2+Lqv0UGGvY82NLoni8+J/Yy0RU=         0.50   \n",
      "12491  HofLGzk1Or/8Ildj2+Lqv0UGGvY82NLoni8+J/Yy0RU=         0.50   \n",
      "12492  HofLGzk1Or/8Ildj2+Lqv0UGGvY82NLoni8+J/Yy0RU=         0.50   \n",
      "12493  HofLGzk1Or/8Ildj2+Lqv0UGGvY82NLoni8+J/Yy0RU=         0.50   \n",
      "12494  HofLGzk1Or/8Ildj2+Lqv0UGGvY82NLoni8+J/Yy0RU=         0.50   \n",
      "12495  HofLGzk1Or/8Ildj2+Lqv0UGGvY82NLoni8+J/Yy0RU=         0.50   \n",
      "12496  HofLGzk1Or/8Ildj2+Lqv0UGGvY82NLoni8+J/Yy0RU=         0.50   \n",
      "12497  HofLGzk1Or/8Ildj2+Lqv0UGGvY82NLoni8+J/Yy0RU=         0.50   \n",
      "12498  HofLGzk1Or/8Ildj2+Lqv0UGGvY82NLoni8+J/Yy0RU=         0.50   \n",
      "12499  HofLGzk1Or/8Ildj2+Lqv0UGGvY82NLoni8+J/Yy0RU=         0.50   \n",
      "12500  HofLGzk1Or/8Ildj2+Lqv0UGGvY82NLoni8+J/Yy0RU=         0.50   \n",
      "12501  HofLGzk1Or/8Ildj2+Lqv0UGGvY82NLoni8+J/Yy0RU=         0.50   \n",
      "12502  HofLGzk1Or/8Ildj2+Lqv0UGGvY82NLoni8+J/Yy0RU=         0.50   \n",
      "12503  HofLGzk1Or/8Ildj2+Lqv0UGGvY82NLoni8+J/Yy0RU=         0.50   \n",
      "12504  HofLGzk1Or/8Ildj2+Lqv0UGGvY82NLoni8+J/Yy0RU=         0.50   \n",
      "12505  HofLGzk1Or/8Ildj2+Lqv0UGGvY82NLoni8+J/Yy0RU=         0.50   \n",
      "12506  HofLGzk1Or/8Ildj2+Lqv0UGGvY82NLoni8+J/Yy0RU=         0.50   \n",
      "...                                             ...          ...   \n",
      "37750  HofLGzk1Or/8Ildj2+Lqv0UGGvY82NLoni8+J/Yy0RU=         0.50   \n",
      "37751  HofLGzk1Or/8Ildj2+Lqv0UGGvY82NLoni8+J/Yy0RU=         0.50   \n",
      "37752  HofLGzk1Or/8Ildj2+Lqv0UGGvY82NLoni8+J/Yy0RU=         0.50   \n",
      "37753  HofLGzk1Or/8Ildj2+Lqv0UGGvY82NLoni8+J/Yy0RU=         0.50   \n",
      "37754  HofLGzk1Or/8Ildj2+Lqv0UGGvY82NLoni8+J/Yy0RU=         0.50   \n",
      "37755  HofLGzk1Or/8Ildj2+Lqv0UGGvY82NLoni8+J/Yy0RU=         0.50   \n",
      "37756  HofLGzk1Or/8Ildj2+Lqv0UGGvY82NLoni8+J/Yy0RU=         0.50   \n",
      "37757  HofLGzk1Or/8Ildj2+Lqv0UGGvY82NLoni8+J/Yy0RU=         0.50   \n",
      "37758  HofLGzk1Or/8Ildj2+Lqv0UGGvY82NLoni8+J/Yy0RU=         0.50   \n",
      "37759  HofLGzk1Or/8Ildj2+Lqv0UGGvY82NLoni8+J/Yy0RU=         0.50   \n",
      "37760  HofLGzk1Or/8Ildj2+Lqv0UGGvY82NLoni8+J/Yy0RU=         0.50   \n",
      "37761  HofLGzk1Or/8Ildj2+Lqv0UGGvY82NLoni8+J/Yy0RU=         0.50   \n",
      "37762  HofLGzk1Or/8Ildj2+Lqv0UGGvY82NLoni8+J/Yy0RU=         0.50   \n",
      "37763  HofLGzk1Or/8Ildj2+Lqv0UGGvY82NLoni8+J/Yy0RU=         0.50   \n",
      "37764  HofLGzk1Or/8Ildj2+Lqv0UGGvY82NLoni8+J/Yy0RU=         0.50   \n",
      "37765  HofLGzk1Or/8Ildj2+Lqv0UGGvY82NLoni8+J/Yy0RU=         0.50   \n",
      "37766  HofLGzk1Or/8Ildj2+Lqv0UGGvY82NLoni8+J/Yy0RU=         0.50   \n",
      "37767  HofLGzk1Or/8Ildj2+Lqv0UGGvY82NLoni8+J/Yy0RU=         0.50   \n",
      "37768  HofLGzk1Or/8Ildj2+Lqv0UGGvY82NLoni8+J/Yy0RU=         0.50   \n",
      "37769  70ZOvysYGtB6j9MUHMPzA2Iy7GRzWeJTdX0YCLRKGVg=         0.25   \n",
      "37770  HofLGzk1Or/8Ildj2+Lqv0UGGvY82NLoni8+J/Yy0RU=         0.50   \n",
      "37771  HofLGzk1Or/8Ildj2+Lqv0UGGvY82NLoni8+J/Yy0RU=         0.50   \n",
      "37772  HofLGzk1Or/8Ildj2+Lqv0UGGvY82NLoni8+J/Yy0RU=         0.50   \n",
      "37773  HofLGzk1Or/8Ildj2+Lqv0UGGvY82NLoni8+J/Yy0RU=         0.50   \n",
      "37774  HofLGzk1Or/8Ildj2+Lqv0UGGvY82NLoni8+J/Yy0RU=         0.50   \n",
      "37775  HofLGzk1Or/8Ildj2+Lqv0UGGvY82NLoni8+J/Yy0RU=         0.50   \n",
      "37776  HofLGzk1Or/8Ildj2+Lqv0UGGvY82NLoni8+J/Yy0RU=         0.50   \n",
      "37777  HofLGzk1Or/8Ildj2+Lqv0UGGvY82NLoni8+J/Yy0RU=         0.50   \n",
      "37778  HofLGzk1Or/8Ildj2+Lqv0UGGvY82NLoni8+J/Yy0RU=         0.50   \n",
      "37779  HofLGzk1Or/8Ildj2+Lqv0UGGvY82NLoni8+J/Yy0RU=         0.50   \n",
      "\n",
      "       MemoryCapacity  \n",
      "12477          0.2493  \n",
      "12478          0.4995  \n",
      "12479          1.0000  \n",
      "12480          0.4995  \n",
      "12481          0.2493  \n",
      "12482          0.4995  \n",
      "12483          0.4995  \n",
      "12484          0.4995  \n",
      "12485          0.4995  \n",
      "12486          0.2493  \n",
      "12487          0.2493  \n",
      "12488          0.4995  \n",
      "12489          0.4995  \n",
      "12490          0.4995  \n",
      "12491          0.4995  \n",
      "12492          0.4995  \n",
      "12493          0.2493  \n",
      "12494          0.4995  \n",
      "12495          0.4995  \n",
      "12496          0.2493  \n",
      "12497          0.4995  \n",
      "12498          0.4995  \n",
      "12499          0.2493  \n",
      "12500          0.2493  \n",
      "12501          0.4995  \n",
      "12502          0.4995  \n",
      "12503          0.4995  \n",
      "12504          0.4995  \n",
      "12505          0.2493  \n",
      "12506          0.4995  \n",
      "...               ...  \n",
      "37750          0.2493  \n",
      "37751          0.4995  \n",
      "37752          0.4995  \n",
      "37753          0.4995  \n",
      "37754          0.4995  \n",
      "37755          0.4995  \n",
      "37756          0.4995  \n",
      "37757          0.4995  \n",
      "37758          0.4995  \n",
      "37759          0.4995  \n",
      "37760          0.4995  \n",
      "37761          0.4995  \n",
      "37762          0.2493  \n",
      "37763          0.4995  \n",
      "37764          0.7490  \n",
      "37765          0.4995  \n",
      "37766          0.4995  \n",
      "37767          0.4995  \n",
      "37768          0.4995  \n",
      "37769          0.2498  \n",
      "37770          0.2493  \n",
      "37771          0.4995  \n",
      "37772          0.4995  \n",
      "37773          0.4995  \n",
      "37774          0.4995  \n",
      "37775          0.2493  \n",
      "37776          0.4995  \n",
      "37777          0.2493  \n",
      "37778          0.7490  \n",
      "37779          0.7490  \n",
      "\n",
      "[25303 rows x 6 columns]\n"
     ]
    },
    {
     "name": "stderr",
     "output_type": "stream",
     "text": [
      "C:\\susan\\tools\\Anaconda3\\lib\\site-packages\\pandas\\core\\indexing.py:543: SettingWithCopyWarning:\n",
      "\n",
      "\n",
      "A value is trying to be set on a copy of a slice from a DataFrame.\n",
      "Try using .loc[row_indexer,col_indexer] = value instead\n",
      "\n",
      "See the caveats in the documentation: http://pandas.pydata.org/pandas-docs/stable/indexing.html#indexing-view-versus-copy\n",
      "\n",
      "C:\\susan\\tools\\Anaconda3\\lib\\site-packages\\ipykernel_launcher.py:4: SettingWithCopyWarning:\n",
      "\n",
      "\n",
      "A value is trying to be set on a copy of a slice from a DataFrame.\n",
      "Try using .loc[row_indexer,col_indexer] = value instead\n",
      "\n",
      "See the caveats in the documentation: http://pandas.pydata.org/pandas-docs/stable/indexing.html#indexing-view-versus-copy\n",
      "\n"
     ]
    }
   ],
   "source": [
    "eventFreqDf=df.loc[(df.Timestamp != 0)]\n",
    "#eventFreqDf['Timestamp']=(eventFreqDf['Timestamp'])/(24*60*60*1000*1000)\n",
    "eventFreqDf.loc[: ,'Timestamp'] /= (24*60*60*1000*1000)\n",
    "eventFreqDf['Timestamp']=np.ceil(eventFreqDf['Timestamp'])\n",
    "print(eventFreqDf)"
   ]
  },
  {
   "cell_type": "code",
   "execution_count": 12,
   "metadata": {},
   "outputs": [
    {
     "name": "stderr",
     "output_type": "stream",
     "text": [
      "C:\\susan\\tools\\Anaconda3\\lib\\site-packages\\pandas\\core\\indexing.py:543: SettingWithCopyWarning:\n",
      "\n",
      "\n",
      "A value is trying to be set on a copy of a slice from a DataFrame.\n",
      "Try using .loc[row_indexer,col_indexer] = value instead\n",
      "\n",
      "See the caveats in the documentation: http://pandas.pydata.org/pandas-docs/stable/indexing.html#indexing-view-versus-copy\n",
      "\n"
     ]
    },
    {
     "data": {
      "text/plain": [
       "Text(0,0.5,'No of machine events')"
      ]
     },
     "execution_count": 12,
     "metadata": {},
     "output_type": "execute_result"
    },
    {
     "data": {
      "image/png": "[encoded data removed]",
      "text/plain": [
       "<Figure size 1440x576 with 1 Axes>"
      ]
     },
     "metadata": {},
     "output_type": "display_data"
    }
   ],
   "source": [
    "eventFreqDf=df.loc[(df.Timestamp != 0)]\n",
    "#eventFreqDf['Timestamp']=(eventFreqDf['Timestamp'])/(24*60*60*1000*1000)\n",
    "eventFreqDf.loc[: ,'Timestamp'] /= (24*60*60*1000*1000)\n",
    "eventFreqDf= eventFreqDf.sort_values(['Timestamp'], ascending=False)\n",
    "eventFreqDf.iloc[0:7, 0]=np.floor(eventFreqDf.iloc[0:7, 0].values)\n",
    "eventFreqDf['Timestamp']=np.ceil(eventFreqDf['Timestamp'])\n",
    "x_axis=list(range(1,30))\n",
    "y_axis=list(range(100,900,100))\n",
    "eventFreqDf.groupby(['Timestamp','EventType']).size().unstack().plot(kind='line',marker='o',grid=True,xticks=x_axis,yticks=y_axis,figsize=(20,8))\n",
    "plt.xlabel(\"Days\")\n",
    "plt.ylabel(\"No of machine events\")\n",
    "#eventFreqDf['Timestamp']\n",
    "# machEvtGrp=eventFreqDf.groupby(['Timestamp','EventType']).size()\n",
    "# machEvtGrp"
   ]
  },
  {
   "cell_type": "code",
   "execution_count": 229,
   "metadata": {},
   "outputs": [],
   "source": [
    "#Plot frequency of daily machine events\n",
    "# y1=[None]*29\n",
    "# for i in range(1,30):\n",
    "#     y1[i-1]=machEvtGrp[i][0]\n",
    "# y1\n",
    "# y2=[None]*29\n",
    "# for x in range(1,30):\n",
    "#     y2[x-1]=machEvtGrp[x][1]\n",
    "# y2\n",
    "# y3=[None]*29\n",
    "# for x in range(1,30):\n",
    "#     y3[x-1]=machEvtGrp[x][2]\n",
    "# y3\n",
    "# x=list(range(1,30))\n",
    "# plt.plot(x,y1)\n",
    "# plt.show()\n",
    "# plt.plot( 'x', 'y1', data=df, marker='o', markerfacecolor='blue', markersize=12, color='skyblue', linewidth=4)\n",
    "# plt.plot( 'x', 'y2', data=df, marker='', color='olive', linewidth=2)\n",
    "# plt.plot( 'x', 'y3', data=df, marker='', color='olive', linewidth=2, linestyle='dashed', label=\"toto\")\n",
    "# plt.legend()"
   ]
  },
  {
   "cell_type": "code",
   "execution_count": 97,
   "metadata": {},
   "outputs": [
    {
     "name": "stdout",
     "output_type": "stream",
     "text": [
      "Frequency of machine downtime :  8860\n",
      "Longest captured downtime in trace :  17407.0\n"
     ]
    }
   ],
   "source": [
    "#Group by machines\n",
    "machineGrp=df.loc[(df.Timestamp != 0)].groupby(['MachineId'])\n",
    "count=0\n",
    "downtime=[]\n",
    "for key, item in grp_df:\n",
    "    x=machineGrp.get_group(key)\n",
    "    event=x.EventType\n",
    "    time=x.Timestamp\n",
    "    zippedEvent = zip(event, event[1:])\n",
    "    zippedEventList=list(zippedEvent)\n",
    "    zippedTime = zip(time, time[1:])\n",
    "    zippedTimeList=list(zippedTime)\n",
    "    for i in range(len(zippedEventList)):\n",
    "        if (1, 0) == zippedEventList[i] :\n",
    "            dt=np.ceil((zippedTimeList[i][1]-zippedTimeList[i][0])/(1000*1000*60))\n",
    "            downtime.insert(count,dt)\n",
    "            count=count+1\n",
    "print(\"Frequency of machine downtime : \",count)\n",
    "print(\"Longest captured downtime in trace : \",max(downtime))"
   ]
  },
  {
   "cell_type": "code",
   "execution_count": 114,
   "metadata": {},
   "outputs": [
    {
     "data": {
      "image/png": "[encoded data removed]",
      "text/plain": [
       "<Figure size 432x288 with 1 Axes>"
      ]
     },
     "metadata": {},
     "output_type": "display_data"
    }
   ],
   "source": [
    "sorted_data = np.sort(downtime) \n",
    "yvals=np.arange(len(sorted_data))/float(len(sorted_data)-1)\n",
    "plt.plot(sorted_data,yvals)\n",
    "plt.show()"
   ]
  },
  {
   "cell_type": "code",
   "execution_count": 110,
   "metadata": {},
   "outputs": [
    {
     "name": "stdout",
     "output_type": "stream",
     "text": [
      "25% percentile: 7.0\n",
      "50% percentile: 17.0\n",
      "60% percentile: 17.0\n",
      "75% percentile: 119.0\n",
      "90% percentile: 520.0\n",
      "95% percentile: 1576.0499999999993\n",
      "100% percentile: 17407.0\n"
     ]
    }
   ],
   "source": [
    "for q in [25, 50, 60, 75 ,90, 95, 100]:\n",
    "  print (\"{}% percentile: {}\".format (q, np.percentile(downtime, q)))"
   ]
  },
  {
   "cell_type": "code",
   "execution_count": 96,
   "metadata": {},
   "outputs": [],
   "source": [
    "# def check_for_1_0(seq):\n",
    "#     return (1, 0) in zip(seq, seq[1:])\n",
    "\n",
    "# def count_sequence(lst, seq):\n",
    "#      count = 0\n",
    "#      len_seq = len(seq)\n",
    "#      upper_bound = len(lst)-len_seq+1\n",
    "#      for i in range(upper_bound):\n",
    "#          if lst[i:i+len_seq] == seq:\n",
    "#              count += 1\n",
    "#      return count\n",
    "\n",
    "# def check_for_1_0(seq):\n",
    "#     count=0\n",
    "#     zipped = zip(seq, seq[1:])\n",
    "#     zippedList=list(zipped)\n",
    "#     for i in range(len(zippedList)):\n",
    "#         if (1, 0) == zippedList[i] :\n",
    "#             count=count+1\n",
    "#     return count\n",
    "\n",
    "# grp_df=eventFreqDf.groupby(['MachineId'])\n",
    "#a=grp_df.get_group(5)\n",
    "#l=a.EventType\n",
    "#l\n",
    "#for i in l:\n",
    " #   print(i)\n",
    "\n",
    "            \n",
    "            \n",
    "    #print(key, y)\n",
    "#     if(check_for_1_0(y)):\n",
    "#         count=count+1\n",
    "#         print(count,\"true\",key)\n",
    "    #result=result+count_sequence(y,seq)\n",
    "#    result=result+check_for_1_0(y)\n",
    "\n",
    "#print(result)\n",
    "    \n",
    "    \n",
    "# seq=[2, 2, 1, 0, 1,0]\n",
    "# print(seq[1:])\n",
    "# a=list(zip(seq,seq[1:]))\n",
    "# a[1][1]\n",
    "    \n",
    "# num_bins = 10000\n",
    "# counts, bin_edges = np.histogram (downtime, bins=num_bins, normed=True)\n",
    "# # print(counts)\n",
    "# # print(bin_edges)\n",
    "# cdf = np.cumsum (counts)\n",
    "# plt.plot (bin_edges[1:], cdf/cdf[-1])\n",
    "# for q in [50, 60,75 ,90, 95, 100]:\n",
    "#   print (\"{}%% percentile: {}\".format (q, np.percentile(downtime, q)))"
   ]
  },
  {
   "cell_type": "code",
   "execution_count": null,
   "metadata": {},
   "outputs": [],
   "source": []
  },
  {
   "cell_type": "code",
   "execution_count": null,
   "metadata": {},
   "outputs": [],
   "source": []
  },
  {
   "cell_type": "code",
   "execution_count": 113,
   "metadata": {},
   "outputs": [],
   "source": [
    "\n",
    "\n"
   ]
  },
  {
   "cell_type": "code",
   "execution_count": null,
   "metadata": {},
   "outputs": [],
   "source": []
  },
  {
   "cell_type": "code",
   "execution_count": null,
   "metadata": {},
   "outputs": [],
   "source": []
  },
  {
   "cell_type": "code",
   "execution_count": null,
   "metadata": {},
   "outputs": [],
   "source": []
  }
 ],
 "metadata": {
  "kernelspec": {
   "display_name": "Python 3",
   "language": "python",
   "name": "python3"
  },
  "language_info": {
   "codemirror_mode": {
    "name": "ipython",
    "version": 3
   },
   "file_extension": ".py",
   "mimetype": "text/x-python",
   "name": "python",
   "nbconvert_exporter": "python",
   "pygments_lexer": "ipython3",
   "version": "3.6.5"
  }
 },
 "nbformat": 4,
 "nbformat_minor": 2
}
